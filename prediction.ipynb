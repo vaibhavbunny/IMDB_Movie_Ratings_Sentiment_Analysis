{
 "cells": [
  {
   "cell_type": "code",
   "execution_count": 4,
   "metadata": {},
   "outputs": [],
   "source": [
    "import numpy as np\n",
    "import tensorflow as tf\n",
    "from tensorflow.keras.models import Sequential\n",
    "from tensorflow.keras.datasets import imdb\n",
    "from tensorflow.keras.preprocessing import sequence\n",
    "from tensorflow.keras.layers import Embedding,SimpleRNN,Dense\n",
    "from tensorflow.keras.models import load_model\n"
   ]
  },
  {
   "cell_type": "code",
   "execution_count": 5,
   "metadata": {},
   "outputs": [],
   "source": [
    "word_index = imdb.get_word_index()\n",
    "reversed_word_index = {value: key for key,value in word_index.items()}"
   ]
  },
  {
   "cell_type": "code",
   "execution_count": 6,
   "metadata": {},
   "outputs": [
    {
     "name": "stderr",
     "output_type": "stream",
     "text": [
      "WARNING:absl:Compiled the loaded model, but the compiled metrics have yet to be built. `model.compile_metrics` will be empty until you train or evaluate the model.\n"
     ]
    }
   ],
   "source": [
    "model = load_model('simple_rnn_imdb.h5')"
   ]
  },
  {
   "cell_type": "code",
   "execution_count": 7,
   "metadata": {},
   "outputs": [
    {
     "data": {
      "text/html": [
       "<pre style=\"white-space:pre;overflow-x:auto;line-height:normal;font-family:Menlo,'DejaVu Sans Mono',consolas,'Courier New',monospace\"><span style=\"font-weight: bold\">Model: \"sequential_2\"</span>\n",
       "</pre>\n"
      ],
      "text/plain": [
       "\u001b[1mModel: \"sequential_2\"\u001b[0m\n"
      ]
     },
     "metadata": {},
     "output_type": "display_data"
    },
    {
     "data": {
      "text/html": [
       "<pre style=\"white-space:pre;overflow-x:auto;line-height:normal;font-family:Menlo,'DejaVu Sans Mono',consolas,'Courier New',monospace\">┏━━━━━━━━━━━━━━━━━━━━━━━━━━━━━━━━━┳━━━━━━━━━━━━━━━━━━━━━━━━┳━━━━━━━━━━━━━━━┓\n",
       "┃<span style=\"font-weight: bold\"> Layer (type)                    </span>┃<span style=\"font-weight: bold\"> Output Shape           </span>┃<span style=\"font-weight: bold\">       Param # </span>┃\n",
       "┡━━━━━━━━━━━━━━━━━━━━━━━━━━━━━━━━━╇━━━━━━━━━━━━━━━━━━━━━━━━╇━━━━━━━━━━━━━━━┩\n",
       "│ embedding_2 (<span style=\"color: #0087ff; text-decoration-color: #0087ff\">Embedding</span>)         │ (<span style=\"color: #00d7ff; text-decoration-color: #00d7ff\">None</span>, <span style=\"color: #00af00; text-decoration-color: #00af00\">500</span>, <span style=\"color: #00af00; text-decoration-color: #00af00\">128</span>)       │     <span style=\"color: #00af00; text-decoration-color: #00af00\">1,280,000</span> │\n",
       "├─────────────────────────────────┼────────────────────────┼───────────────┤\n",
       "│ simple_rnn_2 (<span style=\"color: #0087ff; text-decoration-color: #0087ff\">SimpleRNN</span>)        │ (<span style=\"color: #00d7ff; text-decoration-color: #00d7ff\">None</span>, <span style=\"color: #00af00; text-decoration-color: #00af00\">128</span>)            │        <span style=\"color: #00af00; text-decoration-color: #00af00\">32,896</span> │\n",
       "├─────────────────────────────────┼────────────────────────┼───────────────┤\n",
       "│ dense_2 (<span style=\"color: #0087ff; text-decoration-color: #0087ff\">Dense</span>)                 │ (<span style=\"color: #00d7ff; text-decoration-color: #00d7ff\">None</span>, <span style=\"color: #00af00; text-decoration-color: #00af00\">1</span>)              │           <span style=\"color: #00af00; text-decoration-color: #00af00\">129</span> │\n",
       "└─────────────────────────────────┴────────────────────────┴───────────────┘\n",
       "</pre>\n"
      ],
      "text/plain": [
       "┏━━━━━━━━━━━━━━━━━━━━━━━━━━━━━━━━━┳━━━━━━━━━━━━━━━━━━━━━━━━┳━━━━━━━━━━━━━━━┓\n",
       "┃\u001b[1m \u001b[0m\u001b[1mLayer (type)                   \u001b[0m\u001b[1m \u001b[0m┃\u001b[1m \u001b[0m\u001b[1mOutput Shape          \u001b[0m\u001b[1m \u001b[0m┃\u001b[1m \u001b[0m\u001b[1m      Param #\u001b[0m\u001b[1m \u001b[0m┃\n",
       "┡━━━━━━━━━━━━━━━━━━━━━━━━━━━━━━━━━╇━━━━━━━━━━━━━━━━━━━━━━━━╇━━━━━━━━━━━━━━━┩\n",
       "│ embedding_2 (\u001b[38;5;33mEmbedding\u001b[0m)         │ (\u001b[38;5;45mNone\u001b[0m, \u001b[38;5;34m500\u001b[0m, \u001b[38;5;34m128\u001b[0m)       │     \u001b[38;5;34m1,280,000\u001b[0m │\n",
       "├─────────────────────────────────┼────────────────────────┼───────────────┤\n",
       "│ simple_rnn_2 (\u001b[38;5;33mSimpleRNN\u001b[0m)        │ (\u001b[38;5;45mNone\u001b[0m, \u001b[38;5;34m128\u001b[0m)            │        \u001b[38;5;34m32,896\u001b[0m │\n",
       "├─────────────────────────────────┼────────────────────────┼───────────────┤\n",
       "│ dense_2 (\u001b[38;5;33mDense\u001b[0m)                 │ (\u001b[38;5;45mNone\u001b[0m, \u001b[38;5;34m1\u001b[0m)              │           \u001b[38;5;34m129\u001b[0m │\n",
       "└─────────────────────────────────┴────────────────────────┴───────────────┘\n"
      ]
     },
     "metadata": {},
     "output_type": "display_data"
    },
    {
     "data": {
      "text/html": [
       "<pre style=\"white-space:pre;overflow-x:auto;line-height:normal;font-family:Menlo,'DejaVu Sans Mono',consolas,'Courier New',monospace\"><span style=\"font-weight: bold\"> Total params: </span><span style=\"color: #00af00; text-decoration-color: #00af00\">1,313,027</span> (5.01 MB)\n",
       "</pre>\n"
      ],
      "text/plain": [
       "\u001b[1m Total params: \u001b[0m\u001b[38;5;34m1,313,027\u001b[0m (5.01 MB)\n"
      ]
     },
     "metadata": {},
     "output_type": "display_data"
    },
    {
     "data": {
      "text/html": [
       "<pre style=\"white-space:pre;overflow-x:auto;line-height:normal;font-family:Menlo,'DejaVu Sans Mono',consolas,'Courier New',monospace\"><span style=\"font-weight: bold\"> Trainable params: </span><span style=\"color: #00af00; text-decoration-color: #00af00\">1,313,025</span> (5.01 MB)\n",
       "</pre>\n"
      ],
      "text/plain": [
       "\u001b[1m Trainable params: \u001b[0m\u001b[38;5;34m1,313,025\u001b[0m (5.01 MB)\n"
      ]
     },
     "metadata": {},
     "output_type": "display_data"
    },
    {
     "data": {
      "text/html": [
       "<pre style=\"white-space:pre;overflow-x:auto;line-height:normal;font-family:Menlo,'DejaVu Sans Mono',consolas,'Courier New',monospace\"><span style=\"font-weight: bold\"> Non-trainable params: </span><span style=\"color: #00af00; text-decoration-color: #00af00\">0</span> (0.00 B)\n",
       "</pre>\n"
      ],
      "text/plain": [
       "\u001b[1m Non-trainable params: \u001b[0m\u001b[38;5;34m0\u001b[0m (0.00 B)\n"
      ]
     },
     "metadata": {},
     "output_type": "display_data"
    },
    {
     "data": {
      "text/html": [
       "<pre style=\"white-space:pre;overflow-x:auto;line-height:normal;font-family:Menlo,'DejaVu Sans Mono',consolas,'Courier New',monospace\"><span style=\"font-weight: bold\"> Optimizer params: </span><span style=\"color: #00af00; text-decoration-color: #00af00\">2</span> (12.00 B)\n",
       "</pre>\n"
      ],
      "text/plain": [
       "\u001b[1m Optimizer params: \u001b[0m\u001b[38;5;34m2\u001b[0m (12.00 B)\n"
      ]
     },
     "metadata": {},
     "output_type": "display_data"
    }
   ],
   "source": [
    "model.summary()"
   ]
  },
  {
   "cell_type": "code",
   "execution_count": 8,
   "metadata": {},
   "outputs": [
    {
     "data": {
      "text/plain": [
       "[array([[-0.05865283, -0.00957579, -1.1532042 , ..., -1.3759865 ,\n",
       "         -1.2020938 , -1.0762876 ],\n",
       "        [-0.00902023, -0.02262097, -0.09478338, ..., -0.12699398,\n",
       "         -0.04798805, -0.05280951],\n",
       "        [ 0.01443656,  0.07508857, -0.07842336, ..., -0.08904048,\n",
       "         -0.1082286 , -0.01652587],\n",
       "        ...,\n",
       "        [-0.06101981, -0.04244848, -0.03496449, ..., -0.09571663,\n",
       "         -0.02574559, -0.06452   ],\n",
       "        [ 0.04300097,  0.04074652, -0.00346241, ...,  0.10756556,\n",
       "          0.05093329, -0.00625567],\n",
       "        [-0.00797513,  0.07556304,  0.05010531, ..., -0.10482807,\n",
       "         -0.09822062, -0.0859016 ]], dtype=float32),\n",
       " array([[ 0.08517928, -0.12655213,  0.02667844, ..., -0.08428931,\n",
       "          0.12102377,  0.02730315],\n",
       "        [-0.06001565,  0.06552992, -0.0851868 , ...,  0.05558047,\n",
       "         -0.05735338,  0.14153728],\n",
       "        [ 0.10841974, -0.13315795,  0.10071255, ...,  0.12875809,\n",
       "          0.02529392,  0.09881109],\n",
       "        ...,\n",
       "        [ 0.07356697,  0.01398996,  0.08038443, ..., -0.05049742,\n",
       "          0.15055497, -0.11372191],\n",
       "        [-0.0189904 ,  0.15460728,  0.01039726, ...,  0.0718933 ,\n",
       "         -0.08868455, -0.10161617],\n",
       "        [-0.02400149, -0.08368386,  0.11760126, ...,  0.15389186,\n",
       "         -0.03579535,  0.13992071]], dtype=float32),\n",
       " array([[-0.01299278, -0.00771203,  0.14271066, ..., -0.28983703,\n",
       "          0.01871394,  0.16168274],\n",
       "        [ 0.04191954,  0.12223481, -0.03398107, ..., -0.18341354,\n",
       "         -0.06675677, -0.00561738],\n",
       "        [ 0.03627644, -0.06692478,  0.15993965, ...,  0.06018946,\n",
       "         -0.0725508 ,  0.03987002],\n",
       "        ...,\n",
       "        [-0.03280017,  0.05879791,  0.04518966, ..., -0.12905023,\n",
       "         -0.11987466, -0.07511099],\n",
       "        [-0.10078666,  0.01442231, -0.01978777, ..., -0.21687217,\n",
       "         -0.2447088 ,  0.0251836 ],\n",
       "        [ 0.00155704, -0.00485375,  0.14947005, ...,  0.03933735,\n",
       "          0.00686076,  0.00543264]], dtype=float32),\n",
       " array([-0.01628014, -0.00934496,  0.02829752,  0.00639863, -0.0429799 ,\n",
       "        -0.01772622, -0.02484084,  0.01473329,  0.00934489, -0.03146976,\n",
       "         0.00892966, -0.02487002, -0.03303177,  0.01136432, -0.0203236 ,\n",
       "         0.00486135,  0.03373012, -0.02208797, -0.01989754,  0.01181492,\n",
       "        -0.01808229, -0.0344495 ,  0.00263343, -0.02146262, -0.03187655,\n",
       "         0.03454528, -0.01306404,  0.01131378,  0.0081668 , -0.03993904,\n",
       "        -0.02464615, -0.03107181, -0.00391906, -0.01231627, -0.00612114,\n",
       "        -0.02352663, -0.00113818,  0.01807665,  0.0242758 ,  0.00698918,\n",
       "        -0.03124355,  0.00902367,  0.01902443,  0.02303057,  0.03404633,\n",
       "         0.00929475, -0.02774079, -0.02040638,  0.04040555, -0.02033677,\n",
       "         0.00384909,  0.08666325, -0.0090777 , -0.01414694, -0.02159384,\n",
       "         0.001634  , -0.01618803,  0.01741409,  0.04970612, -0.01708857,\n",
       "        -0.01457838, -0.02247475,  0.0049925 ,  0.00181314,  0.01361593,\n",
       "        -0.01840313,  0.01399411, -0.00590608, -0.02650715, -0.04731658,\n",
       "         0.00392674,  0.00647438, -0.005613  ,  0.02354722, -0.01931475,\n",
       "         0.0226336 ,  0.00524989, -0.02306828, -0.01999546, -0.0167194 ,\n",
       "         0.03861144, -0.02594819, -0.16172609, -0.01489252, -0.01813421,\n",
       "        -0.0164012 , -0.02146271, -0.0072081 , -0.02652465, -0.00455969,\n",
       "         0.00317645,  0.01567985,  0.00975034, -0.02737508, -0.00314435,\n",
       "        -0.00497486,  0.01141054,  0.03425236, -0.03038101,  0.01318043,\n",
       "        -0.03549394,  0.01533132, -0.00797082,  0.01580555, -0.01571553,\n",
       "         0.01750568, -0.0240639 , -0.01733644, -0.0225317 ,  0.02918104,\n",
       "        -0.00027077,  0.00874536, -0.01645837, -0.00926164,  0.03174843,\n",
       "        -0.0329827 , -0.01321565, -0.02552591, -0.01860671, -0.02505207,\n",
       "        -0.00559043, -0.02881904, -0.01571042,  0.00733838, -0.02826346,\n",
       "        -0.02269284,  0.01135141,  0.00750732], dtype=float32),\n",
       " array([[-0.2314119 ],\n",
       "        [-0.10979944],\n",
       "        [-0.13207379],\n",
       "        [-0.12249673],\n",
       "        [-0.14892413],\n",
       "        [ 0.17060862],\n",
       "        [ 0.09979238],\n",
       "        [-0.14918609],\n",
       "        [ 0.1225159 ],\n",
       "        [-0.1731207 ],\n",
       "        [ 0.0690454 ],\n",
       "        [ 0.13295269],\n",
       "        [-0.03870924],\n",
       "        [ 0.14082989],\n",
       "        [ 0.08238867],\n",
       "        [-0.18989602],\n",
       "        [-0.03531316],\n",
       "        [ 0.15471448],\n",
       "        [ 0.09671036],\n",
       "        [ 0.17003204],\n",
       "        [ 0.02541596],\n",
       "        [-0.02284082],\n",
       "        [ 0.8058047 ],\n",
       "        [ 0.05131185],\n",
       "        [-0.03340008],\n",
       "        [-0.13680859],\n",
       "        [ 0.16989604],\n",
       "        [-0.10544176],\n",
       "        [-0.14648119],\n",
       "        [-0.11781356],\n",
       "        [ 0.12298898],\n",
       "        [ 0.17066659],\n",
       "        [ 0.0114974 ],\n",
       "        [ 0.17014134],\n",
       "        [ 0.18311314],\n",
       "        [ 0.23502216],\n",
       "        [ 0.16354479],\n",
       "        [-0.08115873],\n",
       "        [-0.08967794],\n",
       "        [-0.15512769],\n",
       "        [-0.11982272],\n",
       "        [ 0.19591819],\n",
       "        [ 0.01307631],\n",
       "        [-0.1441318 ],\n",
       "        [-0.12194518],\n",
       "        [-0.14378308],\n",
       "        [ 0.14501902],\n",
       "        [-0.19152403],\n",
       "        [-0.2420649 ],\n",
       "        [ 0.09305421],\n",
       "        [-0.11646488],\n",
       "        [ 0.1867702 ],\n",
       "        [-0.04059208],\n",
       "        [ 0.11292733],\n",
       "        [-0.02682934],\n",
       "        [ 0.17094146],\n",
       "        [ 0.17250119],\n",
       "        [ 0.1486758 ],\n",
       "        [-0.20986152],\n",
       "        [-0.10673985],\n",
       "        [-0.22279951],\n",
       "        [-0.10547317],\n",
       "        [-0.12897255],\n",
       "        [-0.07566854],\n",
       "        [-0.01710045],\n",
       "        [-0.0711315 ],\n",
       "        [ 0.32553026],\n",
       "        [-0.19332574],\n",
       "        [-0.10187698],\n",
       "        [-0.16113968],\n",
       "        [ 0.07143295],\n",
       "        [ 0.3352813 ],\n",
       "        [ 0.6492603 ],\n",
       "        [-0.02383332],\n",
       "        [ 0.11442174],\n",
       "        [ 0.04833848],\n",
       "        [-0.12012157],\n",
       "        [ 0.16044423],\n",
       "        [ 0.04569897],\n",
       "        [-0.1325835 ],\n",
       "        [-0.11350269],\n",
       "        [ 0.14470161],\n",
       "        [ 0.3341174 ],\n",
       "        [ 0.27648953],\n",
       "        [ 0.09681534],\n",
       "        [ 0.10157672],\n",
       "        [-0.6552157 ],\n",
       "        [-0.1362178 ],\n",
       "        [ 0.11106021],\n",
       "        [ 0.01300167],\n",
       "        [ 0.24749155],\n",
       "        [-0.05647421],\n",
       "        [ 0.01869259],\n",
       "        [ 0.02946052],\n",
       "        [ 0.5945095 ],\n",
       "        [-0.07036575],\n",
       "        [-0.20361057],\n",
       "        [-0.07336303],\n",
       "        [-0.12910227],\n",
       "        [-0.13962041],\n",
       "        [-0.13241634],\n",
       "        [ 0.04001741],\n",
       "        [-0.12453947],\n",
       "        [ 0.10435998],\n",
       "        [ 0.14992954],\n",
       "        [ 0.29063034],\n",
       "        [-0.01931381],\n",
       "        [ 0.06379406],\n",
       "        [-0.02611393],\n",
       "        [-0.1913115 ],\n",
       "        [ 0.2630162 ],\n",
       "        [-0.18783028],\n",
       "        [-0.12609349],\n",
       "        [-0.03588435],\n",
       "        [-0.12554404],\n",
       "        [ 0.04604363],\n",
       "        [ 0.11576338],\n",
       "        [ 0.053829  ],\n",
       "        [-0.030478  ],\n",
       "        [ 0.06798527],\n",
       "        [ 0.15071954],\n",
       "        [-0.24662755],\n",
       "        [-0.01049995],\n",
       "        [-0.1059262 ],\n",
       "        [ 0.01663115],\n",
       "        [ 0.01299463],\n",
       "        [-1.1929463 ],\n",
       "        [ 0.1409114 ]], dtype=float32),\n",
       " array([-0.11742108], dtype=float32)]"
      ]
     },
     "execution_count": 8,
     "metadata": {},
     "output_type": "execute_result"
    }
   ],
   "source": [
    "model.get_weights()"
   ]
  },
  {
   "cell_type": "code",
   "execution_count": 9,
   "metadata": {},
   "outputs": [],
   "source": [
    "## 2. helper function\n",
    "## function to decode reviews\n",
    "\n",
    "def decode_review(encoded_review):\n",
    "    return ' '.join([reversed_word_index.get(i-3,'?') for i in encoded_review])\n",
    "\n",
    "## function to preprocess user input\n",
    "def preprocess_text(text):\n",
    "    words = text.lower().split()\n",
    "    encoded_review = [word_index.get(word,2) + 3 for word in words]\n",
    "    padded_review = sequence.pad_sequences([encoded_review],maxlen=500)\n",
    "    return padded_review"
   ]
  },
  {
   "cell_type": "code",
   "execution_count": 10,
   "metadata": {},
   "outputs": [],
   "source": [
    "## Prediction Function\n",
    "def predict_sentiment(review):\n",
    "    preprocessed_input = preprocess_text(review)\n",
    "    prediction = model.predict(preprocessed_input)\n",
    "    sentiment = 'positive' if prediction[0][0] > 0.5 else 'Negative'\n",
    "    return sentiment,prediction[0][0]\n",
    "    "
   ]
  },
  {
   "cell_type": "code",
   "execution_count": 12,
   "metadata": {},
   "outputs": [
    {
     "name": "stdout",
     "output_type": "stream",
     "text": [
      "\u001b[1m1/1\u001b[0m \u001b[32m━━━━━━━━━━━━━━━━━━━━\u001b[0m\u001b[37m\u001b[0m \u001b[1m0s\u001b[0m 145ms/step\n",
      "Review : This movie was fantastic! The acting was great and the plot was thrilling\n",
      "Sentiment :   positive\n",
      "Prediction Score :  0.9976576566696167\n"
     ]
    }
   ],
   "source": [
    "## step 4 : User input and Prediction\n",
    "## example review for prediction\n",
    "example_review = \"This movie was fantastic! The acting was great and the plot was thrilling\"\n",
    "sentiment , score = predict_sentiment(example_review)\n",
    "\n",
    "print(f\"Review : {example_review}\")\n",
    "print(f\"Sentiment :   {sentiment}\")\n",
    "print(f\"Prediction Score :  {score}\")"
   ]
  },
  {
   "cell_type": "code",
   "execution_count": null,
   "metadata": {},
   "outputs": [],
   "source": []
  }
 ],
 "metadata": {
  "kernelspec": {
   "display_name": "Python 3",
   "language": "python",
   "name": "python3"
  },
  "language_info": {
   "codemirror_mode": {
    "name": "ipython",
    "version": 3
   },
   "file_extension": ".py",
   "mimetype": "text/x-python",
   "name": "python",
   "nbconvert_exporter": "python",
   "pygments_lexer": "ipython3",
   "version": "3.11.0"
  }
 },
 "nbformat": 4,
 "nbformat_minor": 2
}
